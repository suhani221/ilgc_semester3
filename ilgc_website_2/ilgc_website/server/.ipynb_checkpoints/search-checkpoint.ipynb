{
 "cells": [
  {
   "cell_type": "code",
   "execution_count": 2,
   "id": "f0f1f47e",
   "metadata": {},
   "outputs": [],
   "source": [
    "import pandas as pd\n",
    "import numpy as np"
   ]
  },
  {
   "cell_type": "code",
   "execution_count": 6,
   "id": "259f5c66",
   "metadata": {},
   "outputs": [
    {
     "data": {
      "text/html": [
       "<div>\n",
       "<style scoped>\n",
       "    .dataframe tbody tr th:only-of-type {\n",
       "        vertical-align: middle;\n",
       "    }\n",
       "\n",
       "    .dataframe tbody tr th {\n",
       "        vertical-align: top;\n",
       "    }\n",
       "\n",
       "    .dataframe thead th {\n",
       "        text-align: right;\n",
       "    }\n",
       "</style>\n",
       "<table border=\"1\" class=\"dataframe\">\n",
       "  <thead>\n",
       "    <tr style=\"text-align: right;\">\n",
       "      <th></th>\n",
       "      <th>key</th>\n",
       "      <th>place_name</th>\n",
       "      <th>admin_name1</th>\n",
       "      <th>latitude</th>\n",
       "      <th>longitude</th>\n",
       "      <th>accuracy</th>\n",
       "    </tr>\n",
       "  </thead>\n",
       "  <tbody>\n",
       "    <tr>\n",
       "      <th>0</th>\n",
       "      <td>IN/110001</td>\n",
       "      <td>Connaught Place</td>\n",
       "      <td>New Delhi</td>\n",
       "      <td>28.6333</td>\n",
       "      <td>77.2167</td>\n",
       "      <td>4.0</td>\n",
       "    </tr>\n",
       "    <tr>\n",
       "      <th>1</th>\n",
       "      <td>IN/110002</td>\n",
       "      <td>Darya Ganj</td>\n",
       "      <td>New Delhi</td>\n",
       "      <td>28.6333</td>\n",
       "      <td>77.2500</td>\n",
       "      <td>4.0</td>\n",
       "    </tr>\n",
       "    <tr>\n",
       "      <th>2</th>\n",
       "      <td>IN/110003</td>\n",
       "      <td>Aliganj</td>\n",
       "      <td>New Delhi</td>\n",
       "      <td>28.6500</td>\n",
       "      <td>77.2167</td>\n",
       "      <td>NaN</td>\n",
       "    </tr>\n",
       "    <tr>\n",
       "      <th>3</th>\n",
       "      <td>IN/110004</td>\n",
       "      <td>Rashtrapati Bhawan</td>\n",
       "      <td>New Delhi</td>\n",
       "      <td>28.6500</td>\n",
       "      <td>77.2167</td>\n",
       "      <td>NaN</td>\n",
       "    </tr>\n",
       "    <tr>\n",
       "      <th>4</th>\n",
       "      <td>IN/110005</td>\n",
       "      <td>Lower Camp Anand Parbat</td>\n",
       "      <td>New Delhi</td>\n",
       "      <td>28.6500</td>\n",
       "      <td>77.2000</td>\n",
       "      <td>NaN</td>\n",
       "    </tr>\n",
       "    <tr>\n",
       "      <th>...</th>\n",
       "      <td>...</td>\n",
       "      <td>...</td>\n",
       "      <td>...</td>\n",
       "      <td>...</td>\n",
       "      <td>...</td>\n",
       "      <td>...</td>\n",
       "    </tr>\n",
       "    <tr>\n",
       "      <th>11037</th>\n",
       "      <td>IN/855116</td>\n",
       "      <td>Thakurganj</td>\n",
       "      <td>Bihar</td>\n",
       "      <td>24.9833</td>\n",
       "      <td>81.0583</td>\n",
       "      <td>NaN</td>\n",
       "    </tr>\n",
       "    <tr>\n",
       "      <th>11038</th>\n",
       "      <td>IN/855117</td>\n",
       "      <td>Taiyabpur</td>\n",
       "      <td>Bihar</td>\n",
       "      <td>24.9833</td>\n",
       "      <td>81.0583</td>\n",
       "      <td>NaN</td>\n",
       "    </tr>\n",
       "    <tr>\n",
       "      <th>11039</th>\n",
       "      <td>IN/855119</td>\n",
       "      <td>Terhagachi</td>\n",
       "      <td>Bihar</td>\n",
       "      <td>24.9833</td>\n",
       "      <td>81.0583</td>\n",
       "      <td>NaN</td>\n",
       "    </tr>\n",
       "    <tr>\n",
       "      <th>11040</th>\n",
       "      <td>IN/855121</td>\n",
       "      <td>Balarampur</td>\n",
       "      <td>Bihar</td>\n",
       "      <td>24.9833</td>\n",
       "      <td>81.0583</td>\n",
       "      <td>NaN</td>\n",
       "    </tr>\n",
       "    <tr>\n",
       "      <th>11041</th>\n",
       "      <td>IN/855126</td>\n",
       "      <td>Tulsia</td>\n",
       "      <td>Bihar</td>\n",
       "      <td>24.9833</td>\n",
       "      <td>81.0583</td>\n",
       "      <td>NaN</td>\n",
       "    </tr>\n",
       "  </tbody>\n",
       "</table>\n",
       "<p>11042 rows × 6 columns</p>\n",
       "</div>"
      ],
      "text/plain": [
       "             key               place_name admin_name1  latitude  longitude  \\\n",
       "0      IN/110001          Connaught Place   New Delhi   28.6333    77.2167   \n",
       "1      IN/110002               Darya Ganj   New Delhi   28.6333    77.2500   \n",
       "2      IN/110003                  Aliganj   New Delhi   28.6500    77.2167   \n",
       "3      IN/110004       Rashtrapati Bhawan   New Delhi   28.6500    77.2167   \n",
       "4      IN/110005  Lower Camp Anand Parbat   New Delhi   28.6500    77.2000   \n",
       "...          ...                      ...         ...       ...        ...   \n",
       "11037  IN/855116               Thakurganj       Bihar   24.9833    81.0583   \n",
       "11038  IN/855117                Taiyabpur       Bihar   24.9833    81.0583   \n",
       "11039  IN/855119               Terhagachi       Bihar   24.9833    81.0583   \n",
       "11040  IN/855121               Balarampur       Bihar   24.9833    81.0583   \n",
       "11041  IN/855126                   Tulsia       Bihar   24.9833    81.0583   \n",
       "\n",
       "       accuracy  \n",
       "0           4.0  \n",
       "1           4.0  \n",
       "2           NaN  \n",
       "3           NaN  \n",
       "4           NaN  \n",
       "...         ...  \n",
       "11037       NaN  \n",
       "11038       NaN  \n",
       "11039       NaN  \n",
       "11040       NaN  \n",
       "11041       NaN  \n",
       "\n",
       "[11042 rows x 6 columns]"
      ]
     },
     "execution_count": 6,
     "metadata": {},
     "output_type": "execute_result"
    }
   ],
   "source": [
    "df= pd.read_csv('/Users/suhaniagarwal/Desktop/ilgc_website_2/gfg/INDIA_LAT_LONG.csv')\n",
    "df"
   ]
  },
  {
   "cell_type": "code",
   "execution_count": 36,
   "id": "915d0ba8",
   "metadata": {},
   "outputs": [
    {
     "data": {
      "text/plain": [
       "0        110001\n",
       "1        110002\n",
       "2        110003\n",
       "3        110004\n",
       "4        110005\n",
       "          ...  \n",
       "11037    855116\n",
       "11038    855117\n",
       "11039    855119\n",
       "11040    855121\n",
       "11041    855126\n",
       "Name: pincode, Length: 11042, dtype: object"
      ]
     },
     "execution_count": 36,
     "metadata": {},
     "output_type": "execute_result"
    }
   ],
   "source": [
    "df[\"pincode\"]=df[\"key\"].str.split(\"/\").str.get(1)\n",
    "df[\"pincode\"]"
   ]
  },
  {
   "cell_type": "code",
   "execution_count": 33,
   "id": "69e77967",
   "metadata": {},
   "outputs": [
    {
     "name": "stdout",
     "output_type": "stream",
     "text": [
      "Found the value 3 in column1 and the value 9 in column2 at index\n",
      "Found the value 3 in column1 and the value 9 in column2 at index\n",
      "Found the value 3 in column1 and the value 9 in column2 at index\n",
      "Found the value 3 in column1 and the value 9 in column2 at index\n"
     ]
    },
    {
     "data": {
      "text/plain": [
       "0        None\n",
       "1        None\n",
       "2        None\n",
       "3        None\n",
       "4        None\n",
       "         ... \n",
       "11037    None\n",
       "11038    None\n",
       "11039    None\n",
       "11040    None\n",
       "11041    None\n",
       "Length: 11042, dtype: object"
      ]
     },
     "execution_count": 33,
     "metadata": {},
     "output_type": "execute_result"
    }
   ],
   "source": [
    "def search(row,latitude,longitude):\n",
    "    if row['latitude'] == latitude and row['longitude'] == longitude:\n",
    "        print('Found the value 3 in column1 and the value 9 in column2 at index')\n",
    "        \n",
    "        \n",
    "latitude=28.6500\n",
    "longitude=77.2167\n",
    "df.apply(search,axis=1,args=(latitude,longitude))"
   ]
  },
  {
   "cell_type": "code",
   "execution_count": 34,
   "id": "6ac444bb",
   "metadata": {},
   "outputs": [
    {
     "name": "stdout",
     "output_type": "stream",
     "text": [
      "Found the value 3 in column1 and the value 9 in column2 at index 2\n",
      "Found the value 3 in column1 and the value 9 in column2 at index 3\n",
      "Found the value 3 in column1 and the value 9 in column2 at index 5\n",
      "Found the value 3 in column1 and the value 9 in column2 at index 7\n"
     ]
    }
   ],
   "source": [
    "def search(latitude,longitude):\n",
    "    for index, row in df.iterrows():\n",
    "        if row['latitude'] == latitude and row['longitude'] == longitude:\n",
    "            print('Found the value 3 in column1 and the value 9 in column2 at index', index)\n",
    "        \n",
    "latitude=28.6500\n",
    "longitude=77.2167\n",
    "search(latitude,longitude)"
   ]
  },
  {
   "cell_type": "code",
   "execution_count": 35,
   "id": "1f9a1e55",
   "metadata": {},
   "outputs": [
    {
     "name": "stdout",
     "output_type": "stream",
     "text": [
      "None\n"
     ]
    }
   ],
   "source": [
    "def search(pincode):\n",
    "    for index, row in df.iterrows():\n",
    "        if row['pincode'] == pincode:\n",
    "            print('Found the value 3 in column1 and the value 9 in column2 at index', index)\n",
    "\n",
    "            print(row['latitude'] ,row['longitude'])\n",
    "            #print('Found the value 3 in column1 and the value 9 in column2 at index', index)\n",
    "        \n",
    "pincode=110001\n",
    "search(pincode)"
   ]
  },
  {
   "cell_type": "code",
   "execution_count": null,
   "id": "3034014e",
   "metadata": {},
   "outputs": [],
   "source": []
  },
  {
   "cell_type": "code",
   "execution_count": null,
   "id": "cea09e9c",
   "metadata": {},
   "outputs": [],
   "source": []
  },
  {
   "cell_type": "code",
   "execution_count": null,
   "id": "d56f7a63",
   "metadata": {},
   "outputs": [],
   "source": []
  }
 ],
 "metadata": {
  "kernelspec": {
   "display_name": "Python 3 (ipykernel)",
   "language": "python",
   "name": "python3"
  },
  "language_info": {
   "codemirror_mode": {
    "name": "ipython",
    "version": 3
   },
   "file_extension": ".py",
   "mimetype": "text/x-python",
   "name": "python",
   "nbconvert_exporter": "python",
   "pygments_lexer": "ipython3",
   "version": "3.9.7"
  }
 },
 "nbformat": 4,
 "nbformat_minor": 5
}
